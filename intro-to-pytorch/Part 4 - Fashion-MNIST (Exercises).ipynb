{
 "cells": [
  {
   "cell_type": "markdown",
   "metadata": {},
   "source": [
    "# Classifying Fashion-MNIST\n",
    "\n",
    "Now it's your turn to build and train a neural network. You'll be using the [Fashion-MNIST dataset](https://github.com/zalandoresearch/fashion-mnist), a drop-in replacement for the MNIST dataset. MNIST is actually quite trivial with neural networks where you can easily achieve better than 97% accuracy. Fashion-MNIST is a set of 28x28 greyscale images of clothes. It's more complex than MNIST, so it's a better representation of the actual performance of your network, and a better representation of datasets you'll use in the real world.\n",
    "\n",
    "<img src='assets/fashion-mnist-sprite.png' width=500px>\n",
    "\n",
    "In this notebook, you'll build your own neural network. For the most part, you could just copy and paste the code from Part 3, but you wouldn't be learning. It's important for you to write the code yourself and get it to work. Feel free to consult the previous notebooks though as you work through this.\n",
    "\n",
    "First off, let's load the dataset through torchvision."
   ]
  },
  {
   "cell_type": "code",
   "execution_count": null,
   "metadata": {},
   "outputs": [],
   "source": [
    "import torch\n",
    "from torchvision import datasets, transforms\n",
    "import helper\n",
    "\n",
    "device = torch.device(\"cuda:0\" if torch.cuda.is_available() else \"cpu\")\n",
    "torch.backends.cudnn.benchmark = True\n",
    "\n",
    "# Define a transform to normalize the data\n",
    "transform = transforms.Compose([transforms.ToTensor(),\n",
    "                                transforms.Normalize((0.5,), (0.5,))])\n",
    "# Download and load the training data\n",
    "trainset = datasets.FashionMNIST('~/.pytorch/F_MNIST_data/', download=True, train=True, transform=transform)\n",
    "trainloader = torch.utils.data.DataLoader(trainset, batch_size=64, shuffle=True, pin_memory=True,num_workers=4)\n",
    "\n",
    "# Download and load the test data\n",
    "testset = datasets.FashionMNIST('~/.pytorch/F_MNIST_data/', download=True, train=False, transform=transform)\n",
    "testloader = torch.utils.data.DataLoader(testset, batch_size=64, shuffle=False, pin_memory=True,num_workers=4)"
   ]
  },
  {
   "cell_type": "markdown",
   "metadata": {},
   "source": [
    "Here we can see one of the images."
   ]
  },
  {
   "cell_type": "code",
   "execution_count": null,
   "metadata": {},
   "outputs": [
    {
     "data": {
      "image/png": "[encoded data removed]",
      "text/plain": [
       "<Figure size 432x288 with 1 Axes>"
      ]
     },
     "metadata": {
      "needs_background": "light"
     },
     "output_type": "display_data"
    }
   ],
   "source": [
    "image, label = next(iter(testloader))\n",
    "helper.imshow(image[0,:]);"
   ]
  },
  {
   "cell_type": "markdown",
   "metadata": {},
   "source": [
    "## Building the network\n",
    "\n",
    "Here you should define your network. As with MNIST, each image is 28x28 which is a total of 784 pixels, and there are 10 classes. You should include at least one hidden layer. We suggest you use ReLU activations for the layers and to return the logits or log-softmax from the forward pass. It's up to you how many layers you add and the size of those layers."
   ]
  },
  {
   "cell_type": "code",
   "execution_count": null,
   "metadata": {},
   "outputs": [],
   "source": [
    "from torch import nn\n",
    "from collections import OrderedDict\n",
    "from torch import optim"
   ]
  },
  {
   "cell_type": "code",
   "execution_count": null,
   "metadata": {},
   "outputs": [
    {
     "data": {
      "text/plain": [
       "Sequential(\n",
       "  (fc1): Linear(in_features=784, out_features=128, bias=False)\n",
       "  (relu1): ReLU(inplace=True)\n",
       "  (bn1): BatchNorm1d(128, eps=1e-05, momentum=0.1, affine=True, track_running_stats=True)\n",
       "  (drop1): Dropout(p=0.5, inplace=False)\n",
       "  (fc2): Linear(in_features=128, out_features=128, bias=False)\n",
       "  (relu2): ReLU(inplace=True)\n",
       "  (bn2): BatchNorm1d(128, eps=1e-05, momentum=0.1, affine=True, track_running_stats=True)\n",
       "  (drop2): Dropout(p=0.5, inplace=False)\n",
       "  (fc3): Linear(in_features=128, out_features=10, bias=True)\n",
       ")"
      ]
     },
     "execution_count": null,
     "metadata": {},
     "output_type": "execute_result"
    }
   ],
   "source": [
    "# TODO: Define your network architecture here\n",
    "\n",
    "model = nn.Sequential(OrderedDict([\n",
    "                     ('fc1', nn.Linear(784,128,bias=False)),\n",
    "                     ('relu1',nn.ReLU(inplace=True)),\n",
    "                     ('bn1',nn.BatchNorm1d(128)),\n",
    "                     ('drop1',nn.Dropout(p=0.5)),\n",
    "                     ('fc2', nn.Linear(128,128,bias=False)),\n",
    "                     ('relu2',nn.ReLU(inplace=True)),\n",
    "                     ('bn2',nn.BatchNorm1d(128)),\n",
    "                     ('drop2',nn.Dropout(p=0.5)),\n",
    "                     ('fc3', nn.Linear(128,10))]))\n",
    "model.to(device)"
   ]
  },
  {
   "cell_type": "markdown",
   "metadata": {},
   "source": [
    "# Train the network\n",
    "\n",
    "Now you should create your network and train it. First you'll want to define [the criterion](http://pytorch.org/docs/master/nn.html#loss-functions) ( something like `nn.CrossEntropyLoss`) and [the optimizer](http://pytorch.org/docs/master/optim.html) (typically `optim.SGD` or `optim.Adam`).\n",
    "\n",
    "Then write the training code. Remember the training pass is a fairly straightforward process:\n",
    "\n",
    "* Make a forward pass through the network to get the logits \n",
    "* Use the logits to calculate the loss\n",
    "* Perform a backward pass through the network with `loss.backward()` to calculate the gradients\n",
    "* Take a step with the optimizer to update the weights\n",
    "\n",
    "By adjusting the hyperparameters (hidden units, learning rate, etc), you should be able to get the training loss below 0.4."
   ]
  },
  {
   "cell_type": "code",
   "execution_count": null,
   "metadata": {},
   "outputs": [],
   "source": [
    "# TODO: Create the network, define the criterion and optimizer\n",
    "\n",
    "criterion = nn.CrossEntropyLoss()\n",
    "optimizer = optim.Adam(model.parameters())"
   ]
  },
  {
   "cell_type": "code",
   "execution_count": null,
   "metadata": {},
   "outputs": [
    {
     "name": "stdout",
     "output_type": "stream",
     "text": [
      "Epoch: 0 , train_loss:0.6468340638858169, train_error:0.22634594882729211, valid_loss: 1.2102915293471828, valid_error: 0.2200437898089172\n",
      "Epoch: 1 , train_loss:0.5186431863859519, train_error:0.1839852078891258, valid_loss: 0.4590816305131669, valid_error: 0.1595342356687898\n",
      "Epoch: 2 , train_loss:0.4915071910441811, train_error:0.17369069829424308, valid_loss: 0.4868885570081176, valid_error: 0.16839171974522293\n",
      "Epoch: 3 , train_loss:0.47233755217749934, train_error:0.16726079424307036, valid_loss: 0.4384898957173536, valid_error: 0.14858678343949044\n",
      "Epoch: 4 , train_loss:0.4628956960653191, train_error:0.16431236673773988, valid_loss: 0.43589773840585333, valid_error: 0.14759156050955413\n",
      "Epoch: 5 , train_loss:0.45738732624155626, train_error:0.16086420575692964, valid_loss: 0.4450436461313515, valid_error: 0.14271496815286625\n",
      "Epoch: 6 , train_loss:0.44974569000923303, train_error:0.15959821428571427, valid_loss: 0.4565962995313535, valid_error: 0.14530254777070065\n",
      "Epoch: 7 , train_loss:0.44078441188215955, train_error:0.15909848081023453, valid_loss: 0.43881117566755623, valid_error: 0.14281449044585987\n",
      "Epoch: 8 , train_loss:0.44026216672364077, train_error:0.158215618336887, valid_loss: 0.4076123469194789, valid_error: 0.14281449044585987\n",
      "Epoch: 9 , train_loss:0.4386451492177398, train_error:0.15591684434968017, valid_loss: 0.4255441823013269, valid_error: 0.14271496815286625\n",
      "Epoch: 10, train_loss:0.4337014503983546, train_error:0.1545009328358209, valid_loss: 0.4448201625020641, valid_error: 0.14540207006369427\n",
      "Epoch: 11, train_loss:0.41979910239481977, train_error:0.15053638059701493, valid_loss: 0.41921816282211594, valid_error: 0.13953025477707007\n",
      "Epoch: 12, train_loss:0.4182848586265975, train_error:0.14852078891257997, valid_loss: 0.4055744365901704, valid_error: 0.13714171974522293\n",
      "Epoch: 13, train_loss:0.4190080232584654, train_error:0.14952025586353945, valid_loss: 0.42105620102897573, valid_error: 0.1347531847133758\n",
      "Epoch: 14, train_loss:0.41528181873087183, train_error:0.14738805970149255, valid_loss: 0.39887777170178235, valid_error: 0.1331608280254777\n",
      "Epoch: 15, train_loss:0.41036900806465126, train_error:0.14738805970149255, valid_loss: 0.40162009987861486, valid_error: 0.13823646496815287\n",
      "Epoch: 16, train_loss:0.40961807033718267, train_error:0.14703824626865672, valid_loss: 0.40976943645128017, valid_error: 0.1318670382165605\n",
      "Epoch: 17, train_loss:0.4039171287563564, train_error:0.1433568763326226, valid_loss: 0.4064226312811967, valid_error: 0.13206608280254778\n",
      "Epoch: 18, train_loss:0.4052637484568014, train_error:0.14538912579957355, valid_loss: 0.40715598367202055, valid_error: 0.13226512738853502\n",
      "Epoch: 19, train_loss:0.40186926784482335, train_error:0.14249067164179105, valid_loss: 0.39135485308565154, valid_error: 0.13126990445859874\n"
     ]
    }
   ],
   "source": [
    "# TODO: Train the network here\n",
    "\n",
    "def error_rate(output,targets):\n",
    "    return (output.argmax(-1) != labels).float().mean()\n",
    "\n",
    "for ep in range(20):\n",
    "    train_loss_avg = 0.\n",
    "    train_err_rates = 0.\n",
    "    model.train()\n",
    "    for images,labels in trainloader:\n",
    "        images = images.view(images.shape[0],-1)\n",
    "        images,labels = images.to(device), labels.to(device)\n",
    "        \n",
    "        optimizer.zero_grad()\n",
    "        output = model(images)\n",
    "\n",
    "        loss = criterion(output,labels)\n",
    "\n",
    "        loss.backward()\n",
    "        optimizer.step()\n",
    "        train_loss_avg += loss.item()\n",
    "        train_err_rates += error_rate(output,labels).item()\n",
    "    else:\n",
    "        model.eval()\n",
    "        val_loss_avg = 0.\n",
    "        val_err_rates = 0.\n",
    "        with torch.no_grad():\n",
    "            for images,labels in testloader:\n",
    "                images = images.view(images.shape[0],-1)\n",
    "                images,labels = images.to(device), labels.to(device)\n",
    "                output = model(images)\n",
    "                loss = criterion(output,labels)\n",
    "                val_loss_avg += loss.item()\n",
    "                val_err_rates += error_rate(output,labels).item()\n",
    "            else:\n",
    "                train_loss = train_loss_avg / len(trainloader)\n",
    "                train_error = train_err_rates / len(trainloader)\n",
    "                valid_loss = val_loss_avg / len(testloader)\n",
    "                valid_error = val_err_rates / len(testloader)\n",
    "    \n",
    "                print(f\"Epoch: {ep:<2}, train_loss:{train_loss:<4}, train_error:{train_error:<4}, valid_loss: {valid_loss:<4}, valid_error: {valid_error:<4}\")"
   ]
  },
  {
   "cell_type": "code",
   "execution_count": null,
   "metadata": {},
   "outputs": [],
   "source": [
    "import torch.nn.functional as F"
   ]
  },
  {
   "cell_type": "code",
   "execution_count": null,
   "metadata": {},
   "outputs": [
    {
     "data": {
      "image/png": "[encoded data removed]",
      "text/plain": [
       "<Figure size 432x648 with 2 Axes>"
      ]
     },
     "metadata": {
      "image/png": {
       "height": 216,
       "width": 424
      },
      "needs_background": "light"
     },
     "output_type": "display_data"
    }
   ],
   "source": [
    "%matplotlib inline\n",
    "%config InlineBackend.figure_format = 'retina'\n",
    "\n",
    "import helper\n",
    "\n",
    "# Test out your network!\n",
    "\n",
    "dataiter = iter(testloader)\n",
    "images, labels = dataiter.next()\n",
    "img = images[30]\n",
    "# Convert 2D image to 1D vector\n",
    "img = img.resize_(1, 784)\n",
    "\n",
    "# TODO: Calculate the class probabilities (softmax) for img\n",
    "model.to(torch.device('cpu'))\n",
    "ps = F.softmax(model(img),dim=-1)\n",
    "\n",
    "# Plot the image and probabilities\n",
    "helper.view_classify(img.resize_(1, 28, 28), ps, version='Fashion')"
   ]
  },
  {
   "cell_type": "code",
   "execution_count": null,
   "metadata": {},
   "outputs": [],
   "source": []
  }
 ],
 "metadata": {
  "kernelspec": {
   "display_name": "Python 3",
   "language": "python",
   "name": "python3"
  }
 },
 "nbformat": 4,
 "nbformat_minor": 4
}
