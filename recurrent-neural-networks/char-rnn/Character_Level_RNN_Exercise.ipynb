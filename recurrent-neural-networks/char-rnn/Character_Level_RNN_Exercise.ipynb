{
 "cells": [
  {
   "cell_type": "markdown",
   "metadata": {},
   "source": [
    "# Character-Level LSTM in PyTorch\n",
    "\n",
    "In this notebook, I'll construct a character-level LSTM with PyTorch. The network will train character by character on some text, then generate new text character by character. As an example, I will train on Anna Karenina. **This model will be able to generate new text based on the text from the book!**\n",
    "\n",
    "This network is based off of Andrej Karpathy's [post on RNNs](http://karpathy.github.io/2015/05/21/rnn-effectiveness/) and [implementation in Torch](https://github.com/karpathy/char-rnn). Below is the general architecture of the character-wise RNN.\n",
    "\n",
    "<img src=\"https://github.com/Kshitij09/deep-learning-v2-pytorch/blob/master/recurrent-neural-networks/char-rnn/assets/charseq.jpeg?raw=1\" width=\"500\">"
   ]
  },
  {
   "cell_type": "markdown",
   "metadata": {},
   "source": [
    "First let's load in our required resources for data loading and model creation."
   ]
  },
  {
   "cell_type": "code",
   "execution_count": null,
   "metadata": {},
   "outputs": [],
   "source": [
    "import numpy as np\n",
    "import torch\n",
    "from torch import nn\n",
    "import torch.nn.functional as F"
   ]
  },
  {
   "cell_type": "markdown",
   "metadata": {},
   "source": [
    "## Load in Data\n",
    "\n",
    "Then, we'll load the Anna Karenina text file and convert it into integers for our network to use. "
   ]
  },
  {
   "cell_type": "code",
   "execution_count": null,
   "metadata": {},
   "outputs": [],
   "source": [
    "!mkdir data && mv anna.txt data"
   ]
  },
  {
   "cell_type": "code",
   "execution_count": null,
   "metadata": {},
   "outputs": [],
   "source": [
    "# open text file and read in data as `text`\n",
    "with open('data/anna.txt', 'r') as f:\n",
    "    text = f.read()"
   ]
  },
  {
   "cell_type": "markdown",
   "metadata": {},
   "source": [
    "Let's check out the first 100 characters, make sure everything is peachy. According to the [American Book Review](http://americanbookreview.org/100bestlines.asp), this is the 6th best first line of a book ever."
   ]
  },
  {
   "cell_type": "code",
   "execution_count": null,
   "metadata": {},
   "outputs": [
    {
     "data": {
      "text/plain": [
       "'Chapter 1\\n\\n\\nHappy families are all alike; every unhappy family is unhappy in its own\\nway.\\n\\nEverythin'"
      ]
     },
     "execution_count": null,
     "metadata": {
      "tags": []
     },
     "output_type": "execute_result"
    }
   ],
   "source": [
    "text[:100]"
   ]
  },
  {
   "cell_type": "markdown",
   "metadata": {},
   "source": [
    "### Tokenization\n",
    "\n",
    "In the cells, below, I'm creating a couple **dictionaries** to convert the characters to and from integers. Encoding the characters as integers makes it easier to use as input in the network."
   ]
  },
  {
   "cell_type": "code",
   "execution_count": null,
   "metadata": {},
   "outputs": [],
   "source": [
    "# encode the text and map each character to an integer and vice versa\n",
    "\n",
    "# we create two dictionaries:\n",
    "# 1. int2char, which maps integers to characters\n",
    "# 2. char2int, which maps characters to unique integers\n",
    "chars = tuple(set(text))\n",
    "int2char = dict(enumerate(chars))\n",
    "char2int = {ch: ii for ii, ch in int2char.items()}\n",
    "\n",
    "# encode the text\n",
    "encoded = np.array([char2int[ch] for ch in text])"
   ]
  },
  {
   "cell_type": "markdown",
   "metadata": {},
   "source": [
    "And we can see those same characters from above, encoded as integers."
   ]
  },
  {
   "cell_type": "code",
   "execution_count": null,
   "metadata": {},
   "outputs": [
    {
     "data": {
      "text/plain": [
       "array([38, 55, 12, 28, 71, 47,  1, 14, 80,  4,  4,  4, 27, 12, 28, 28, 43,\n",
       "       14,  0, 12, 49, 33, 24, 33, 47, 35, 14, 12,  1, 47, 14, 12, 24, 24,\n",
       "       14, 12, 24, 33, 73, 47,  3, 14, 47, 29, 47,  1, 43, 14, 26, 74, 55,\n",
       "       12, 28, 28, 43, 14,  0, 12, 49, 33, 24, 43, 14, 33, 35, 14, 26, 74,\n",
       "       55, 12, 28, 28, 43, 14, 33, 74, 14, 33, 71, 35, 14,  8, 61, 74,  4,\n",
       "       61, 12, 43, 81,  4,  4, 40, 29, 47,  1, 43, 71, 55, 33, 74])"
      ]
     },
     "execution_count": null,
     "metadata": {
      "tags": []
     },
     "output_type": "execute_result"
    }
   ],
   "source": [
    "encoded[:100]"
   ]
  },
  {
   "cell_type": "markdown",
   "metadata": {},
   "source": [
    "## Pre-processing the data\n",
    "\n",
    "As you can see in our char-RNN image above, our LSTM expects an input that is **one-hot encoded** meaning that each character is converted into an integer (via our created dictionary) and *then* converted into a column vector where only it's corresponding integer index will have the value of 1 and the rest of the vector will be filled with 0's. Since we're one-hot encoding the data, let's make a function to do that!\n"
   ]
  },
  {
   "cell_type": "code",
   "execution_count": null,
   "metadata": {},
   "outputs": [],
   "source": [
    "def one_hot_encode(arr, n_labels):\n",
    "    \n",
    "    # Initialize the the encoded array\n",
    "    one_hot = np.zeros((arr.size, n_labels), dtype=np.float32)\n",
    "    \n",
    "    # Fill the appropriate elements with ones\n",
    "    one_hot[np.arange(one_hot.shape[0]), arr.flatten()] = 1.\n",
    "    \n",
    "    # Finally reshape it to get back to the original array\n",
    "    one_hot = one_hot.reshape((*arr.shape, n_labels))\n",
    "    \n",
    "    return one_hot"
   ]
  },
  {
   "cell_type": "code",
   "execution_count": null,
   "metadata": {},
   "outputs": [
    {
     "name": "stdout",
     "output_type": "stream",
     "text": [
      "[[[0. 0. 0. 1. 0. 0. 0. 0.]\n",
      "  [0. 0. 0. 0. 0. 1. 0. 0.]\n",
      "  [0. 1. 0. 0. 0. 0. 0. 0.]]]\n"
     ]
    }
   ],
   "source": [
    "# check that the function works as expected\n",
    "test_seq = np.array([[3, 5, 1]])\n",
    "one_hot = one_hot_encode(test_seq, 8)\n",
    "\n",
    "print(one_hot)"
   ]
  },
  {
   "cell_type": "markdown",
   "metadata": {},
   "source": [
    "## Making training mini-batches\n",
    "\n",
    "\n",
    "To train on this data, we also want to create mini-batches for training. Remember that we want our batches to be multiple sequences of some desired number of sequence steps. Considering a simple example, our batches would look like this:\n",
    "\n",
    "<img src=\"https://github.com/Kshitij09/deep-learning-v2-pytorch/blob/master/recurrent-neural-networks/char-rnn/assets/sequence_batching@1x.png?raw=1\" width=500px>\n",
    "\n",
    "\n",
    "<br>\n",
    "\n",
    "In this example, we'll take the encoded characters (passed in as the `arr` parameter) and split them into multiple sequences, given by `batch_size`. Each of our sequences will be `seq_length` long.\n",
    "\n",
    "### Creating Batches\n",
    "\n",
    "**1. The first thing we need to do is discard some of the text so we only have completely full mini-batches. **\n",
    "\n",
    "Each batch contains $N \\times M$ characters, where $N$ is the batch size (the number of sequences in a batch) and $M$ is the seq_length or number of time steps in a sequence. Then, to get the total number of batches, $K$, that we can make from the array `arr`, you divide the length of `arr` by the number of characters per batch. Once you know the number of batches, you can get the total number of characters to keep from `arr`, $N * M * K$.\n",
    "\n",
    "**2. After that, we need to split `arr` into $N$ batches. ** \n",
    "\n",
    "You can do this using `arr.reshape(size)` where `size` is a tuple containing the dimensions sizes of the reshaped array. We know we want $N$ sequences in a batch, so let's make that the size of the first dimension. For the second dimension, you can use `-1` as a placeholder in the size, it'll fill up the array with the appropriate data for you. After this, you should have an array that is $N \\times (M * K)$.\n",
    "\n",
    "**3. Now that we have this array, we can iterate through it to get our mini-batches. **\n",
    "\n",
    "The idea is each batch is a $N \\times M$ window on the $N \\times (M * K)$ array. For each subsequent batch, the window moves over by `seq_length`. We also want to create both the input and target arrays. Remember that the targets are just the inputs shifted over by one character. The way I like to do this window is use `range` to take steps of size `n_steps` from $0$ to `arr.shape[1]`, the total number of tokens in each sequence. That way, the integers you get from `range` always point to the start of a batch, and each window is `seq_length` wide.\n",
    "\n",
    "> **TODO:** Write the code for creating batches in the function below. The exercises in this notebook _will not be easy_. I've provided a notebook with solutions alongside this notebook. If you get stuck, checkout the solutions. The most important thing is that you don't copy and paste the code into here, **type out the solution code yourself.**"
   ]
  },
  {
   "cell_type": "code",
   "execution_count": null,
   "metadata": {},
   "outputs": [],
   "source": [
    "def get_batches(arr, batch_size, seq_length):\n",
    "    '''Create a generator that returns batches of size\n",
    "       batch_size x seq_length from arr.\n",
    "       \n",
    "       Arguments\n",
    "       ---------\n",
    "       arr: Array you want to make batches from\n",
    "       batch_size: Batch size, the number of sequences per batch\n",
    "       seq_length: Number of encoded chars in a sequence\n",
    "    '''\n",
    "    \n",
    "    ## TODO: Get the number of batches we can make\n",
    "    batch_size_total = batch_size * seq_length\n",
    "    n_batches = len(arr) // batch_size_total\n",
    "    \n",
    "    ## TODO: Keep only enough characters to make full batches\n",
    "    arr = arr[:n_batches * batch_size_total]\n",
    "    \n",
    "    ## TODO: Reshape into batch_size rows\n",
    "    arr = arr.reshape((batch_size,-1))\n",
    "    \n",
    "    ## TODO: Iterate over the batches using a window of size seq_length\n",
    "    for n in range(0, arr.shape[1], seq_length):\n",
    "        # The features\n",
    "        x = arr[:,n:n+seq_length]\n",
    "        y = np.zeros_like(x)\n",
    "\n",
    "        # The targets, shifted by one\n",
    "        try:\n",
    "          y[:,:-1], y[:,-1] = x[:,1:],arr[:,n+seq_length]\n",
    "        except IndexError:\n",
    "          y[:,:-1], y[:,-1] = x[:,1:],arr[:,0]\n",
    "        yield x, y"
   ]
  },
  {
   "cell_type": "markdown",
   "metadata": {},
   "source": [
    "### Test Your Implementation\n",
    "\n",
    "Now I'll make some data sets and we can check out what's going on as we batch data. Here, as an example, I'm going to use a batch size of 8 and 50 sequence steps."
   ]
  },
  {
   "cell_type": "code",
   "execution_count": null,
   "metadata": {},
   "outputs": [],
   "source": [
    "batches = get_batches(encoded, 8, 50)\n",
    "x, y = next(batches)"
   ]
  },
  {
   "cell_type": "code",
   "execution_count": null,
   "metadata": {},
   "outputs": [
    {
     "name": "stdout",
     "output_type": "stream",
     "text": [
      "x\n",
      " [[38 55 12 28 71 47  1 14 80  4]\n",
      " [35  8 74 14 71 55 12 71 14 12]\n",
      " [47 74  5 14  8  1 14 12 14  0]\n",
      " [35 14 71 55 47 14  2 55 33 47]\n",
      " [14 35 12 61 14 55 47  1 14 71]\n",
      " [ 2 26 35 35 33  8 74 14 12 74]\n",
      " [14 48 74 74 12 14 55 12  5 14]\n",
      " [65 66 24  8 74 35 73 43 81 14]]\n",
      "\n",
      "y\n",
      " [[55 12 28 71 47  1 14 80  4  4]\n",
      " [ 8 74 14 71 55 12 71 14 12 71]\n",
      " [74  5 14  8  1 14 12 14  0  8]\n",
      " [14 71 55 47 14  2 55 33 47  0]\n",
      " [35 12 61 14 55 47  1 14 71 47]\n",
      " [26 35 35 33  8 74 14 12 74  5]\n",
      " [48 74 74 12 14 55 12  5 14 35]\n",
      " [66 24  8 74 35 73 43 81 14 41]]\n"
     ]
    }
   ],
   "source": [
    "# printing out the first 10 items in a sequence\n",
    "print('x\\n', x[:10, :10])\n",
    "print('\\ny\\n', y[:10, :10])"
   ]
  },
  {
   "cell_type": "markdown",
   "metadata": {},
   "source": [
    "If you implemented `get_batches` correctly, the above output should look something like \n",
    "```\n",
    "x\n",
    " [[25  8 60 11 45 27 28 73  1  2]\n",
    " [17  7 20 73 45  8 60 45 73 60]\n",
    " [27 20 80 73  7 28 73 60 73 65]\n",
    " [17 73 45  8 27 73 66  8 46 27]\n",
    " [73 17 60 12 73  8 27 28 73 45]\n",
    " [66 64 17 17 46  7 20 73 60 20]\n",
    " [73 76 20 20 60 73  8 60 80 73]\n",
    " [47 35 43  7 20 17 24 50 37 73]]\n",
    "\n",
    "y\n",
    " [[ 8 60 11 45 27 28 73  1  2  2]\n",
    " [ 7 20 73 45  8 60 45 73 60 45]\n",
    " [20 80 73  7 28 73 60 73 65  7]\n",
    " [73 45  8 27 73 66  8 46 27 65]\n",
    " [17 60 12 73  8 27 28 73 45 27]\n",
    " [64 17 17 46  7 20 73 60 20 80]\n",
    " [76 20 20 60 73  8 60 80 73 17]\n",
    " [35 43  7 20 17 24 50 37 73 36]]\n",
    " ```\n",
    " although the exact numbers may be different. Check to make sure the data is shifted over one step for `y`."
   ]
  },
  {
   "cell_type": "markdown",
   "metadata": {},
   "source": [
    "---\n",
    "## Defining the network with PyTorch\n",
    "\n",
    "Below is where you'll define the network.\n",
    "\n",
    "<img src=\"https://github.com/Kshitij09/deep-learning-v2-pytorch/blob/master/recurrent-neural-networks/char-rnn/assets/charRNN.png?raw=1\" width=500px>\n",
    "\n",
    "Next, you'll use PyTorch to define the architecture of the network. We start by defining the layers and operations we want. Then, define a method for the forward pass. You've also been given a method for predicting characters."
   ]
  },
  {
   "cell_type": "markdown",
   "metadata": {},
   "source": [
    "### Model Structure\n",
    "\n",
    "In `__init__` the suggested structure is as follows:\n",
    "* Create and store the necessary dictionaries (this has been done for you)\n",
    "* Define an LSTM layer that takes as params: an input size (the number of characters), a hidden layer size `n_hidden`, a number of layers `n_layers`, a dropout probability `drop_prob`, and a batch_first boolean (True, since we are batching)\n",
    "* Define a dropout layer with `drop_prob`\n",
    "* Define a fully-connected layer with params: input size `n_hidden` and output size (the number of characters)\n",
    "* Finally, initialize the weights (again, this has been given)\n",
    "\n",
    "Note that some parameters have been named and given in the `__init__` function, and we use them and store them by doing something like `self.drop_prob = drop_prob`."
   ]
  },
  {
   "cell_type": "markdown",
   "metadata": {},
   "source": [
    "---\n",
    "### LSTM Inputs/Outputs\n",
    "\n",
    "You can create a basic [LSTM layer](https://pytorch.org/docs/stable/nn.html#lstm) as follows\n",
    "\n",
    "```python\n",
    "self.lstm = nn.LSTM(input_size, n_hidden, n_layers, \n",
    "                            dropout=drop_prob, batch_first=True)\n",
    "```\n",
    "\n",
    "where `input_size` is the number of characters this cell expects to see as sequential input, and `n_hidden` is the number of units in the hidden layers in the cell. And we can add dropout by adding a dropout parameter with a specified probability; this will automatically add dropout to the inputs or outputs. Finally, in the `forward` function, we can stack up the LSTM cells into layers using `.view`. With this, you pass in a list of cells and it will send the output of one cell into the next cell.\n",
    "\n",
    "We also need to create an initial hidden state of all zeros. This is done like so\n",
    "\n",
    "```python\n",
    "self.init_hidden()\n",
    "```"
   ]
  },
  {
   "cell_type": "code",
   "execution_count": null,
   "metadata": {},
   "outputs": [
    {
     "name": "stdout",
     "output_type": "stream",
     "text": [
      "Training on GPU!\n"
     ]
    }
   ],
   "source": [
    "# check if GPU is available\n",
    "train_on_gpu = torch.cuda.is_available()\n",
    "if(train_on_gpu):\n",
    "    print('Training on GPU!')\n",
    "else: \n",
    "    print('No GPU available, training on CPU; consider making n_epochs very small.')"
   ]
  },
  {
   "cell_type": "code",
   "execution_count": null,
   "metadata": {},
   "outputs": [],
   "source": [
    "import pdb\n",
    "class CharRNN(nn.Module):\n",
    "    \n",
    "    def __init__(self, tokens, n_hidden=256, n_layers=2,\n",
    "                               drop_prob=0.5, lr=0.001):\n",
    "        super().__init__()\n",
    "        self.drop_prob = drop_prob\n",
    "        self.n_layers = n_layers\n",
    "        self.n_hidden = n_hidden\n",
    "        self.lr = lr\n",
    "        \n",
    "        # creating character dictionaries\n",
    "        self.chars = tokens\n",
    "        self.int2char = dict(enumerate(self.chars))\n",
    "        self.char2int = {ch: ii for ii, ch in self.int2char.items()}\n",
    "        \n",
    "        self.lstm = nn.LSTM(len(self.chars),n_hidden,n_layers,\n",
    "                            batch_first=True,dropout=drop_prob)\n",
    "        \n",
    "        self.dropout = nn.Dropout(drop_prob)\n",
    "        self.fc = nn.Linear(n_hidden,len(self.chars))\n",
    "        \n",
    "        ## TODO: define the layers of the model\n",
    "      \n",
    "    \n",
    "    def forward(self, x, hidden):\n",
    "        ''' Forward pass through the network. \n",
    "            These inputs are x, and the hidden/cell state `hidden`. '''\n",
    "\n",
    "        ## TODO: Get the outputs and the new hidden state from the lstm\n",
    "        r_output, hidden = self.lstm(x,hidden)\n",
    "\n",
    "        out = self.dropout(r_output)\n",
    "\n",
    "        out = out.contiguous().view(-1,self.n_hidden)\n",
    "\n",
    "        out = self.fc(out)\n",
    "\n",
    "        # return the final output and the hidden state\n",
    "        return out, hidden\n",
    "    \n",
    "    \n",
    "    def init_hidden(self, batch_size):\n",
    "        ''' Initializes hidden state '''\n",
    "        # Create two new tensors with sizes n_layers x batch_size x n_hidden,\n",
    "        # initialized to zero, for hidden state and cell state of LSTM\n",
    "        weight = next(self.parameters()).data\n",
    "        \n",
    "        if (train_on_gpu):\n",
    "            hidden = (weight.new(self.n_layers, batch_size, self.n_hidden).zero_().cuda(),\n",
    "                  weight.new(self.n_layers, batch_size, self.n_hidden).zero_().cuda())\n",
    "        else:\n",
    "            hidden = (weight.new(self.n_layers, batch_size, self.n_hidden).zero_(),\n",
    "                      weight.new(self.n_layers, batch_size, self.n_hidden).zero_())\n",
    "        \n",
    "        return hidden"
   ]
  },
  {
   "cell_type": "markdown",
   "metadata": {},
   "source": [
    "## Time to train\n",
    "\n",
    "The train function gives us the ability to set the number of epochs, the learning rate, and other parameters.\n",
    "\n",
    "Below we're using an Adam optimizer and cross entropy loss since we are looking at character class scores as output. We calculate the loss and perform backpropagation, as usual!\n",
    "\n",
    "A couple of details about training: \n",
    ">* Within the batch loop, we detach the hidden state from its history; this time setting it equal to a new *tuple* variable because an LSTM has a hidden state that is a tuple of the hidden and cell states.\n",
    "* We use [`clip_grad_norm_`](https://pytorch.org/docs/stable/_modules/torch/nn/utils/clip_grad.html) to help prevent exploding gradients."
   ]
  },
  {
   "cell_type": "code",
   "execution_count": null,
   "metadata": {},
   "outputs": [],
   "source": [
    "def train(net, data, epochs=10, batch_size=10, seq_length=50, lr=0.001, clip=5, val_frac=0.1, print_every=10):\n",
    "    ''' Training a network \n",
    "    \n",
    "        Arguments\n",
    "        ---------\n",
    "        \n",
    "        net: CharRNN network\n",
    "        data: text data to train the network\n",
    "        epochs: Number of epochs to train\n",
    "        batch_size: Number of mini-sequences per mini-batch, aka batch size\n",
    "        seq_length: Number of character steps per mini-batch\n",
    "        lr: learning rate\n",
    "        clip: gradient clipping\n",
    "        val_frac: Fraction of data to hold out for validation\n",
    "        print_every: Number of steps for printing training and validation loss\n",
    "    \n",
    "    '''\n",
    "    net.train()\n",
    "    \n",
    "    opt = torch.optim.Adam(net.parameters(), lr=lr)\n",
    "    criterion = nn.CrossEntropyLoss()\n",
    "    \n",
    "    # create training and validation data\n",
    "    val_idx = int(len(data)*(1-val_frac))\n",
    "    data, val_data = data[:val_idx], data[val_idx:]\n",
    "    \n",
    "    if(train_on_gpu):\n",
    "        net.cuda()\n",
    "    \n",
    "    counter = 0\n",
    "    n_chars = len(net.chars)\n",
    "    for e in range(epochs):\n",
    "        # initialize hidden state\n",
    "        h = net.init_hidden(batch_size)\n",
    "        \n",
    "        for x, y in get_batches(data, batch_size, seq_length):\n",
    "            counter += 1\n",
    "            \n",
    "            # One-hot encode our data and make them Torch tensors\n",
    "            x = one_hot_encode(x, n_chars)\n",
    "            inputs, targets = torch.from_numpy(x), torch.from_numpy(y)\n",
    "            \n",
    "            if(train_on_gpu):\n",
    "                inputs, targets = inputs.cuda(), targets.cuda()\n",
    "\n",
    "            # Creating new variables for the hidden state, otherwise\n",
    "            # we'd backprop through the entire training history\n",
    "            h = tuple([each.data for each in h])\n",
    "\n",
    "            # zero accumulated gradients\n",
    "            net.zero_grad()\n",
    "            \n",
    "            # get the output from the model\n",
    "            output, h = net(inputs, h)\n",
    "            \n",
    "            # calculate the loss and perform backprop\n",
    "            loss = criterion(output, targets.view(batch_size*seq_length).long())\n",
    "            loss.backward()\n",
    "            # `clip_grad_norm` helps prevent the exploding gradient problem in RNNs / LSTMs.\n",
    "            nn.utils.clip_grad_norm_(net.parameters(), clip)\n",
    "            opt.step()\n",
    "            \n",
    "            # loss stats\n",
    "            if counter % print_every == 0:\n",
    "                # Get validation loss\n",
    "                val_h = net.init_hidden(batch_size)\n",
    "                val_losses = []\n",
    "                net.eval()\n",
    "                for x, y in get_batches(val_data, batch_size, seq_length):\n",
    "                    # One-hot encode our data and make them Torch tensors\n",
    "                    x = one_hot_encode(x, n_chars)\n",
    "                    x, y = torch.from_numpy(x), torch.from_numpy(y)\n",
    "                    \n",
    "                    # Creating new variables for the hidden state, otherwise\n",
    "                    # we'd backprop through the entire training history\n",
    "                    val_h = tuple([each.data for each in val_h])\n",
    "                    \n",
    "                    inputs, targets = x, y\n",
    "                    if(train_on_gpu):\n",
    "                        inputs, targets = inputs.cuda(), targets.cuda()\n",
    "\n",
    "                    output, val_h = net(inputs, val_h)\n",
    "                    val_loss = criterion(output, targets.view(batch_size*seq_length).long())\n",
    "                \n",
    "                    val_losses.append(val_loss.item())\n",
    "                \n",
    "                net.train() # reset to train mode after iterationg through validation data\n",
    "                \n",
    "                print(\"Epoch: {}/{}...\".format(e+1, epochs),\n",
    "                      \"Step: {}...\".format(counter),\n",
    "                      \"Loss: {:.4f}...\".format(loss.item()),\n",
    "                      \"Val Loss: {:.4f}\".format(np.mean(val_losses)))"
   ]
  },
  {
   "cell_type": "markdown",
   "metadata": {},
   "source": [
    "## Instantiating the model\n",
    "\n",
    "Now we can actually train the network. First we'll create the network itself, with some given hyperparameters. Then, define the mini-batches sizes, and start training!"
   ]
  },
  {
   "cell_type": "code",
   "execution_count": null,
   "metadata": {},
   "outputs": [
    {
     "name": "stdout",
     "output_type": "stream",
     "text": [
      "CharRNN(\n",
      "  (lstm): LSTM(83, 512, num_layers=2, batch_first=True, dropout=0.5)\n",
      "  (dropout): Dropout(p=0.5, inplace=False)\n",
      "  (fc): Linear(in_features=512, out_features=83, bias=True)\n",
      ")\n"
     ]
    }
   ],
   "source": [
    "## TODO: set your model hyperparameters\n",
    "# define and print the net\n",
    "n_hidden= 512\n",
    "n_layers= 2\n",
    "\n",
    "net = CharRNN(chars, n_hidden, n_layers)\n",
    "print(net)"
   ]
  },
  {
   "cell_type": "markdown",
   "metadata": {},
   "source": [
    "### Set your training hyperparameters!"
   ]
  },
  {
   "cell_type": "code",
   "execution_count": null,
   "metadata": {},
   "outputs": [
    {
     "name": "stdout",
     "output_type": "stream",
     "text": [
      "Epoch: 1/20... Step: 10... Loss: 3.2494... Val Loss: 3.1806\n",
      "Epoch: 1/20... Step: 20... Loss: 3.1446... Val Loss: 3.1307\n",
      "Epoch: 1/20... Step: 30... Loss: 3.1467... Val Loss: 3.1205\n",
      "Epoch: 1/20... Step: 40... Loss: 3.1144... Val Loss: 3.1192\n",
      "Epoch: 1/20... Step: 50... Loss: 3.1431... Val Loss: 3.1160\n",
      "Epoch: 1/20... Step: 60... Loss: 3.1160... Val Loss: 3.1120\n",
      "Epoch: 1/20... Step: 70... Loss: 3.0984... Val Loss: 3.1042\n",
      "Epoch: 1/20... Step: 80... Loss: 3.1001... Val Loss: 3.0857\n",
      "Epoch: 1/20... Step: 90... Loss: 3.0677... Val Loss: 3.0440\n",
      "Epoch: 1/20... Step: 100... Loss: 2.9695... Val Loss: 2.9423\n",
      "Epoch: 1/20... Step: 110... Loss: 2.8482... Val Loss: 2.8096\n",
      "Epoch: 1/20... Step: 120... Loss: 2.7854... Val Loss: 2.7546\n",
      "Epoch: 1/20... Step: 130... Loss: 2.6898... Val Loss: 2.6390\n",
      "Epoch: 2/20... Step: 140... Loss: 2.6185... Val Loss: 2.5661\n",
      "Epoch: 2/20... Step: 150... Loss: 2.5590... Val Loss: 2.5101\n",
      "Epoch: 2/20... Step: 160... Loss: 2.5088... Val Loss: 2.4717\n",
      "Epoch: 2/20... Step: 170... Loss: 2.4396... Val Loss: 2.4304\n",
      "Epoch: 2/20... Step: 180... Loss: 2.4224... Val Loss: 2.3961\n",
      "Epoch: 2/20... Step: 190... Loss: 2.3726... Val Loss: 2.3677\n",
      "Epoch: 2/20... Step: 200... Loss: 2.3628... Val Loss: 2.3377\n",
      "Epoch: 2/20... Step: 210... Loss: 2.3410... Val Loss: 2.3131\n",
      "Epoch: 2/20... Step: 220... Loss: 2.2969... Val Loss: 2.2785\n",
      "Epoch: 2/20... Step: 230... Loss: 2.2883... Val Loss: 2.2533\n",
      "Epoch: 2/20... Step: 240... Loss: 2.2613... Val Loss: 2.2280\n",
      "Epoch: 2/20... Step: 250... Loss: 2.2037... Val Loss: 2.2037\n",
      "Epoch: 2/20... Step: 260... Loss: 2.1746... Val Loss: 2.1733\n",
      "Epoch: 2/20... Step: 270... Loss: 2.1777... Val Loss: 2.1504\n",
      "Epoch: 3/20... Step: 280... Loss: 2.1774... Val Loss: 2.1282\n",
      "Epoch: 3/20... Step: 290... Loss: 2.1359... Val Loss: 2.1028\n",
      "Epoch: 3/20... Step: 300... Loss: 2.1190... Val Loss: 2.0850\n",
      "Epoch: 3/20... Step: 310... Loss: 2.0862... Val Loss: 2.0630\n",
      "Epoch: 3/20... Step: 320... Loss: 2.0623... Val Loss: 2.0434\n",
      "Epoch: 3/20... Step: 330... Loss: 2.0323... Val Loss: 2.0313\n",
      "Epoch: 3/20... Step: 340... Loss: 2.0544... Val Loss: 2.0080\n",
      "Epoch: 3/20... Step: 350... Loss: 2.0255... Val Loss: 1.9978\n",
      "Epoch: 3/20... Step: 360... Loss: 1.9622... Val Loss: 1.9763\n",
      "Epoch: 3/20... Step: 370... Loss: 1.9966... Val Loss: 1.9580\n",
      "Epoch: 3/20... Step: 380... Loss: 1.9664... Val Loss: 1.9435\n",
      "Epoch: 3/20... Step: 390... Loss: 1.9415... Val Loss: 1.9264\n",
      "Epoch: 3/20... Step: 400... Loss: 1.9096... Val Loss: 1.9114\n",
      "Epoch: 3/20... Step: 410... Loss: 1.9313... Val Loss: 1.8961\n",
      "Epoch: 4/20... Step: 420... Loss: 1.9122... Val Loss: 1.8859\n",
      "Epoch: 4/20... Step: 430... Loss: 1.9094... Val Loss: 1.8738\n",
      "Epoch: 4/20... Step: 440... Loss: 1.8939... Val Loss: 1.8598\n",
      "Epoch: 4/20... Step: 450... Loss: 1.8296... Val Loss: 1.8422\n",
      "Epoch: 4/20... Step: 460... Loss: 1.8189... Val Loss: 1.8343\n",
      "Epoch: 4/20... Step: 470... Loss: 1.8519... Val Loss: 1.8238\n",
      "Epoch: 4/20... Step: 480... Loss: 1.8407... Val Loss: 1.8113\n",
      "Epoch: 4/20... Step: 490... Loss: 1.8343... Val Loss: 1.7987\n",
      "Epoch: 4/20... Step: 500... Loss: 1.8259... Val Loss: 1.7928\n",
      "Epoch: 4/20... Step: 510... Loss: 1.8052... Val Loss: 1.7782\n",
      "Epoch: 4/20... Step: 520... Loss: 1.8133... Val Loss: 1.7680\n",
      "Epoch: 4/20... Step: 530... Loss: 1.7787... Val Loss: 1.7610\n",
      "Epoch: 4/20... Step: 540... Loss: 1.7498... Val Loss: 1.7497\n",
      "Epoch: 4/20... Step: 550... Loss: 1.7936... Val Loss: 1.7378\n",
      "Epoch: 5/20... Step: 560... Loss: 1.7564... Val Loss: 1.7358\n",
      "Epoch: 5/20... Step: 570... Loss: 1.7502... Val Loss: 1.7213\n",
      "Epoch: 5/20... Step: 580... Loss: 1.7181... Val Loss: 1.7144\n",
      "Epoch: 5/20... Step: 590... Loss: 1.7209... Val Loss: 1.7057\n",
      "Epoch: 5/20... Step: 600... Loss: 1.7124... Val Loss: 1.7003\n",
      "Epoch: 5/20... Step: 610... Loss: 1.6992... Val Loss: 1.6901\n",
      "Epoch: 5/20... Step: 620... Loss: 1.7012... Val Loss: 1.6854\n",
      "Epoch: 5/20... Step: 630... Loss: 1.7111... Val Loss: 1.6782\n",
      "Epoch: 5/20... Step: 640... Loss: 1.6802... Val Loss: 1.6696\n",
      "Epoch: 5/20... Step: 650... Loss: 1.6709... Val Loss: 1.6641\n",
      "Epoch: 5/20... Step: 660... Loss: 1.6522... Val Loss: 1.6564\n",
      "Epoch: 5/20... Step: 670... Loss: 1.6793... Val Loss: 1.6511\n",
      "Epoch: 5/20... Step: 680... Loss: 1.6682... Val Loss: 1.6424\n",
      "Epoch: 5/20... Step: 690... Loss: 1.6484... Val Loss: 1.6375\n",
      "Epoch: 6/20... Step: 700... Loss: 1.6552... Val Loss: 1.6317\n",
      "Epoch: 6/20... Step: 710... Loss: 1.6399... Val Loss: 1.6265\n",
      "Epoch: 6/20... Step: 720... Loss: 1.6206... Val Loss: 1.6192\n",
      "Epoch: 6/20... Step: 730... Loss: 1.6417... Val Loss: 1.6103\n",
      "Epoch: 6/20... Step: 740... Loss: 1.6127... Val Loss: 1.6051\n",
      "Epoch: 6/20... Step: 750... Loss: 1.5911... Val Loss: 1.6036\n",
      "Epoch: 6/20... Step: 760... Loss: 1.6218... Val Loss: 1.5999\n",
      "Epoch: 6/20... Step: 770... Loss: 1.6092... Val Loss: 1.5966\n",
      "Epoch: 6/20... Step: 780... Loss: 1.5933... Val Loss: 1.5910\n",
      "Epoch: 6/20... Step: 790... Loss: 1.5818... Val Loss: 1.5845\n",
      "Epoch: 6/20... Step: 800... Loss: 1.5901... Val Loss: 1.5779\n",
      "Epoch: 6/20... Step: 810... Loss: 1.5709... Val Loss: 1.5761\n",
      "Epoch: 6/20... Step: 820... Loss: 1.5530... Val Loss: 1.5697\n",
      "Epoch: 6/20... Step: 830... Loss: 1.5958... Val Loss: 1.5632\n",
      "Epoch: 7/20... Step: 840... Loss: 1.5481... Val Loss: 1.5609\n",
      "Epoch: 7/20... Step: 850... Loss: 1.5638... Val Loss: 1.5586\n",
      "Epoch: 7/20... Step: 860... Loss: 1.5428... Val Loss: 1.5510\n",
      "Epoch: 7/20... Step: 870... Loss: 1.5558... Val Loss: 1.5454\n",
      "Epoch: 7/20... Step: 880... Loss: 1.5573... Val Loss: 1.5437\n",
      "Epoch: 7/20... Step: 890... Loss: 1.5644... Val Loss: 1.5379\n",
      "Epoch: 7/20... Step: 900... Loss: 1.5347... Val Loss: 1.5364\n",
      "Epoch: 7/20... Step: 910... Loss: 1.5102... Val Loss: 1.5362\n",
      "Epoch: 7/20... Step: 920... Loss: 1.5290... Val Loss: 1.5300\n",
      "Epoch: 7/20... Step: 930... Loss: 1.5102... Val Loss: 1.5247\n",
      "Epoch: 7/20... Step: 940... Loss: 1.5236... Val Loss: 1.5243\n",
      "Epoch: 7/20... Step: 950... Loss: 1.5316... Val Loss: 1.5151\n",
      "Epoch: 7/20... Step: 960... Loss: 1.5312... Val Loss: 1.5136\n",
      "Epoch: 7/20... Step: 970... Loss: 1.5478... Val Loss: 1.5100\n",
      "Epoch: 8/20... Step: 980... Loss: 1.5126... Val Loss: 1.5103\n",
      "Epoch: 8/20... Step: 990... Loss: 1.5109... Val Loss: 1.5035\n",
      "Epoch: 8/20... Step: 1000... Loss: 1.4972... Val Loss: 1.4991\n",
      "Epoch: 8/20... Step: 1010... Loss: 1.5383... Val Loss: 1.4988\n",
      "Epoch: 8/20... Step: 1020... Loss: 1.5077... Val Loss: 1.4933\n",
      "Epoch: 8/20... Step: 1030... Loss: 1.4898... Val Loss: 1.4925\n",
      "Epoch: 8/20... Step: 1040... Loss: 1.4972... Val Loss: 1.4920\n",
      "Epoch: 8/20... Step: 1050... Loss: 1.4699... Val Loss: 1.4862\n",
      "Epoch: 8/20... Step: 1060... Loss: 1.4805... Val Loss: 1.4854\n",
      "Epoch: 8/20... Step: 1070... Loss: 1.4824... Val Loss: 1.4810\n",
      "Epoch: 8/20... Step: 1080... Loss: 1.4837... Val Loss: 1.4770\n",
      "Epoch: 8/20... Step: 1090... Loss: 1.4586... Val Loss: 1.4706\n",
      "Epoch: 8/20... Step: 1100... Loss: 1.4668... Val Loss: 1.4675\n",
      "Epoch: 8/20... Step: 1110... Loss: 1.4707... Val Loss: 1.4667\n",
      "Epoch: 9/20... Step: 1120... Loss: 1.4761... Val Loss: 1.4667\n",
      "Epoch: 9/20... Step: 1130... Loss: 1.4708... Val Loss: 1.4622\n",
      "Epoch: 9/20... Step: 1140... Loss: 1.4734... Val Loss: 1.4582\n",
      "Epoch: 9/20... Step: 1150... Loss: 1.4861... Val Loss: 1.4594\n",
      "Epoch: 9/20... Step: 1160... Loss: 1.4352... Val Loss: 1.4568\n",
      "Epoch: 9/20... Step: 1170... Loss: 1.4559... Val Loss: 1.4543\n",
      "Epoch: 9/20... Step: 1180... Loss: 1.4455... Val Loss: 1.4558\n",
      "Epoch: 9/20... Step: 1190... Loss: 1.4745... Val Loss: 1.4489\n",
      "Epoch: 9/20... Step: 1200... Loss: 1.4239... Val Loss: 1.4441\n",
      "Epoch: 9/20... Step: 1210... Loss: 1.4333... Val Loss: 1.4414\n",
      "Epoch: 9/20... Step: 1220... Loss: 1.4362... Val Loss: 1.4423\n",
      "Epoch: 9/20... Step: 1230... Loss: 1.4163... Val Loss: 1.4375\n",
      "Epoch: 9/20... Step: 1240... Loss: 1.4204... Val Loss: 1.4332\n",
      "Epoch: 9/20... Step: 1250... Loss: 1.4346... Val Loss: 1.4316\n",
      "Epoch: 10/20... Step: 1260... Loss: 1.4266... Val Loss: 1.4321\n",
      "Epoch: 10/20... Step: 1270... Loss: 1.4302... Val Loss: 1.4290\n",
      "Epoch: 10/20... Step: 1280... Loss: 1.4416... Val Loss: 1.4250\n",
      "Epoch: 10/20... Step: 1290... Loss: 1.4296... Val Loss: 1.4244\n",
      "Epoch: 10/20... Step: 1300... Loss: 1.4169... Val Loss: 1.4220\n",
      "Epoch: 10/20... Step: 1310... Loss: 1.4282... Val Loss: 1.4225\n",
      "Epoch: 10/20... Step: 1320... Loss: 1.3967... Val Loss: 1.4260\n",
      "Epoch: 10/20... Step: 1330... Loss: 1.3953... Val Loss: 1.4216\n",
      "Epoch: 10/20... Step: 1340... Loss: 1.3863... Val Loss: 1.4154\n",
      "Epoch: 10/20... Step: 1350... Loss: 1.3748... Val Loss: 1.4105\n",
      "Epoch: 10/20... Step: 1360... Loss: 1.3840... Val Loss: 1.4143\n",
      "Epoch: 10/20... Step: 1370... Loss: 1.3690... Val Loss: 1.4109\n",
      "Epoch: 10/20... Step: 1380... Loss: 1.4165... Val Loss: 1.4055\n",
      "Epoch: 10/20... Step: 1390... Loss: 1.4275... Val Loss: 1.4051\n",
      "Epoch: 11/20... Step: 1400... Loss: 1.4293... Val Loss: 1.4057\n",
      "Epoch: 11/20... Step: 1410... Loss: 1.4293... Val Loss: 1.4036\n",
      "Epoch: 11/20... Step: 1420... Loss: 1.4185... Val Loss: 1.3965\n",
      "Epoch: 11/20... Step: 1430... Loss: 1.3935... Val Loss: 1.4003\n",
      "Epoch: 11/20... Step: 1440... Loss: 1.4140... Val Loss: 1.3962\n",
      "Epoch: 11/20... Step: 1450... Loss: 1.3480... Val Loss: 1.3959\n",
      "Epoch: 11/20... Step: 1460... Loss: 1.3676... Val Loss: 1.3927\n",
      "Epoch: 11/20... Step: 1470... Loss: 1.3698... Val Loss: 1.3944\n",
      "Epoch: 11/20... Step: 1480... Loss: 1.3807... Val Loss: 1.3882\n",
      "Epoch: 11/20... Step: 1490... Loss: 1.3661... Val Loss: 1.3837\n",
      "Epoch: 11/20... Step: 1500... Loss: 1.3590... Val Loss: 1.3898\n",
      "Epoch: 11/20... Step: 1510... Loss: 1.3418... Val Loss: 1.3886\n",
      "Epoch: 11/20... Step: 1520... Loss: 1.3672... Val Loss: 1.3828\n",
      "Epoch: 12/20... Step: 1530... Loss: 1.4323... Val Loss: 1.3793\n",
      "Epoch: 12/20... Step: 1540... Loss: 1.3727... Val Loss: 1.3786\n",
      "Epoch: 12/20... Step: 1550... Loss: 1.3841... Val Loss: 1.3775\n",
      "Epoch: 12/20... Step: 1560... Loss: 1.3941... Val Loss: 1.3727\n",
      "Epoch: 12/20... Step: 1570... Loss: 1.3393... Val Loss: 1.3743\n",
      "Epoch: 12/20... Step: 1580... Loss: 1.3155... Val Loss: 1.3690\n",
      "Epoch: 12/20... Step: 1590... Loss: 1.3171... Val Loss: 1.3706\n",
      "Epoch: 12/20... Step: 1600... Loss: 1.3425... Val Loss: 1.3674\n",
      "Epoch: 12/20... Step: 1610... Loss: 1.3400... Val Loss: 1.3694\n",
      "Epoch: 12/20... Step: 1620... Loss: 1.3344... Val Loss: 1.3600\n",
      "Epoch: 12/20... Step: 1630... Loss: 1.3575... Val Loss: 1.3562\n",
      "Epoch: 12/20... Step: 1640... Loss: 1.3323... Val Loss: 1.3624\n",
      "Epoch: 12/20... Step: 1650... Loss: 1.3075... Val Loss: 1.3613\n",
      "Epoch: 12/20... Step: 1660... Loss: 1.3610... Val Loss: 1.3604\n",
      "Epoch: 13/20... Step: 1670... Loss: 1.3260... Val Loss: 1.3505\n",
      "Epoch: 13/20... Step: 1680... Loss: 1.3450... Val Loss: 1.3506\n",
      "Epoch: 13/20... Step: 1690... Loss: 1.3219... Val Loss: 1.3472\n",
      "Epoch: 13/20... Step: 1700... Loss: 1.3207... Val Loss: 1.3473\n",
      "Epoch: 13/20... Step: 1710... Loss: 1.2926... Val Loss: 1.3502\n",
      "Epoch: 13/20... Step: 1720... Loss: 1.3113... Val Loss: 1.3487\n",
      "Epoch: 13/20... Step: 1730... Loss: 1.3418... Val Loss: 1.3471\n",
      "Epoch: 13/20... Step: 1740... Loss: 1.3113... Val Loss: 1.3427\n",
      "Epoch: 13/20... Step: 1750... Loss: 1.2726... Val Loss: 1.3460\n",
      "Epoch: 13/20... Step: 1760... Loss: 1.3064... Val Loss: 1.3429\n",
      "Epoch: 13/20... Step: 1770... Loss: 1.3301... Val Loss: 1.3440\n",
      "Epoch: 13/20... Step: 1780... Loss: 1.3144... Val Loss: 1.3401\n",
      "Epoch: 13/20... Step: 1790... Loss: 1.2972... Val Loss: 1.3482\n",
      "Epoch: 13/20... Step: 1800... Loss: 1.3130... Val Loss: 1.3411\n",
      "Epoch: 14/20... Step: 1810... Loss: 1.3260... Val Loss: 1.3387\n",
      "Epoch: 14/20... Step: 1820... Loss: 1.3054... Val Loss: 1.3358\n",
      "Epoch: 14/20... Step: 1830... Loss: 1.3198... Val Loss: 1.3320\n",
      "Epoch: 14/20... Step: 1840... Loss: 1.2699... Val Loss: 1.3317\n",
      "Epoch: 14/20... Step: 1850... Loss: 1.2534... Val Loss: 1.3317\n",
      "Epoch: 14/20... Step: 1860... Loss: 1.3182... Val Loss: 1.3326\n",
      "Epoch: 14/20... Step: 1870... Loss: 1.3171... Val Loss: 1.3277\n",
      "Epoch: 14/20... Step: 1880... Loss: 1.3034... Val Loss: 1.3283\n",
      "Epoch: 14/20... Step: 1890... Loss: 1.3173... Val Loss: 1.3300\n",
      "Epoch: 14/20... Step: 1900... Loss: 1.3030... Val Loss: 1.3313\n",
      "Epoch: 14/20... Step: 1910... Loss: 1.3071... Val Loss: 1.3262\n",
      "Epoch: 14/20... Step: 1920... Loss: 1.2932... Val Loss: 1.3279\n",
      "Epoch: 14/20... Step: 1930... Loss: 1.2623... Val Loss: 1.3268\n",
      "Epoch: 14/20... Step: 1940... Loss: 1.3260... Val Loss: 1.3234\n",
      "Epoch: 15/20... Step: 1950... Loss: 1.2892... Val Loss: 1.3226\n",
      "Epoch: 15/20... Step: 1960... Loss: 1.2946... Val Loss: 1.3197\n",
      "Epoch: 15/20... Step: 1970... Loss: 1.2788... Val Loss: 1.3209\n",
      "Epoch: 15/20... Step: 1980... Loss: 1.2707... Val Loss: 1.3187\n",
      "Epoch: 15/20... Step: 1990... Loss: 1.2744... Val Loss: 1.3175\n",
      "Epoch: 15/20... Step: 2000... Loss: 1.2583... Val Loss: 1.3199\n",
      "Epoch: 15/20... Step: 2010... Loss: 1.2835... Val Loss: 1.3223\n",
      "Epoch: 15/20... Step: 2020... Loss: 1.3078... Val Loss: 1.3200\n",
      "Epoch: 15/20... Step: 2030... Loss: 1.2630... Val Loss: 1.3210\n",
      "Epoch: 15/20... Step: 2040... Loss: 1.2841... Val Loss: 1.3159\n",
      "Epoch: 15/20... Step: 2050... Loss: 1.2601... Val Loss: 1.3118\n",
      "Epoch: 15/20... Step: 2060... Loss: 1.2742... Val Loss: 1.3146\n",
      "Epoch: 15/20... Step: 2070... Loss: 1.2817... Val Loss: 1.3101\n",
      "Epoch: 15/20... Step: 2080... Loss: 1.2788... Val Loss: 1.3102\n",
      "Epoch: 16/20... Step: 2090... Loss: 1.2870... Val Loss: 1.3179\n",
      "Epoch: 16/20... Step: 2100... Loss: 1.2635... Val Loss: 1.3081\n",
      "Epoch: 16/20... Step: 2110... Loss: 1.2625... Val Loss: 1.3106\n",
      "Epoch: 16/20... Step: 2120... Loss: 1.2741... Val Loss: 1.3111\n",
      "Epoch: 16/20... Step: 2130... Loss: 1.2508... Val Loss: 1.3119\n",
      "Epoch: 16/20... Step: 2140... Loss: 1.2615... Val Loss: 1.3077\n",
      "Epoch: 16/20... Step: 2150... Loss: 1.2779... Val Loss: 1.3030\n",
      "Epoch: 16/20... Step: 2160... Loss: 1.2614... Val Loss: 1.3042\n",
      "Epoch: 16/20... Step: 2170... Loss: 1.2543... Val Loss: 1.3078\n",
      "Epoch: 16/20... Step: 2180... Loss: 1.2486... Val Loss: 1.3014\n",
      "Epoch: 16/20... Step: 2190... Loss: 1.2766... Val Loss: 1.3029\n",
      "Epoch: 16/20... Step: 2200... Loss: 1.2427... Val Loss: 1.3012\n",
      "Epoch: 16/20... Step: 2210... Loss: 1.2205... Val Loss: 1.3014\n",
      "Epoch: 16/20... Step: 2220... Loss: 1.2645... Val Loss: 1.3047\n",
      "Epoch: 17/20... Step: 2230... Loss: 1.2312... Val Loss: 1.3002\n",
      "Epoch: 17/20... Step: 2240... Loss: 1.2508... Val Loss: 1.2997\n",
      "Epoch: 17/20... Step: 2250... Loss: 1.2337... Val Loss: 1.3026\n",
      "Epoch: 17/20... Step: 2260... Loss: 1.2423... Val Loss: 1.3011\n",
      "Epoch: 17/20... Step: 2270... Loss: 1.2532... Val Loss: 1.2956\n",
      "Epoch: 17/20... Step: 2280... Loss: 1.2615... Val Loss: 1.2969\n",
      "Epoch: 17/20... Step: 2290... Loss: 1.2536... Val Loss: 1.2945\n",
      "Epoch: 17/20... Step: 2300... Loss: 1.2172... Val Loss: 1.2955\n",
      "Epoch: 17/20... Step: 2310... Loss: 1.2309... Val Loss: 1.2957\n",
      "Epoch: 17/20... Step: 2320... Loss: 1.2344... Val Loss: 1.2937\n",
      "Epoch: 17/20... Step: 2330... Loss: 1.2390... Val Loss: 1.2982\n",
      "Epoch: 17/20... Step: 2340... Loss: 1.2506... Val Loss: 1.2926\n",
      "Epoch: 17/20... Step: 2350... Loss: 1.2510... Val Loss: 1.2938\n",
      "Epoch: 17/20... Step: 2360... Loss: 1.2494... Val Loss: 1.2935\n",
      "Epoch: 18/20... Step: 2370... Loss: 1.2290... Val Loss: 1.2950\n",
      "Epoch: 18/20... Step: 2380... Loss: 1.2354... Val Loss: 1.2908\n",
      "Epoch: 18/20... Step: 2390... Loss: 1.2389... Val Loss: 1.2956\n",
      "Epoch: 18/20... Step: 2400... Loss: 1.2671... Val Loss: 1.2957\n",
      "Epoch: 18/20... Step: 2410... Loss: 1.2579... Val Loss: 1.2938\n",
      "Epoch: 18/20... Step: 2420... Loss: 1.2270... Val Loss: 1.2896\n",
      "Epoch: 18/20... Step: 2430... Loss: 1.2412... Val Loss: 1.2886\n",
      "Epoch: 18/20... Step: 2440... Loss: 1.2261... Val Loss: 1.2938\n",
      "Epoch: 18/20... Step: 2450... Loss: 1.2138... Val Loss: 1.2892\n",
      "Epoch: 18/20... Step: 2460... Loss: 1.2405... Val Loss: 1.2870\n",
      "Epoch: 18/20... Step: 2470... Loss: 1.2288... Val Loss: 1.2856\n",
      "Epoch: 18/20... Step: 2480... Loss: 1.2157... Val Loss: 1.2813\n",
      "Epoch: 18/20... Step: 2490... Loss: 1.2210... Val Loss: 1.2823\n",
      "Epoch: 18/20... Step: 2500... Loss: 1.2201... Val Loss: 1.2851\n",
      "Epoch: 19/20... Step: 2510... Loss: 1.2337... Val Loss: 1.2823\n",
      "Epoch: 19/20... Step: 2520... Loss: 1.2358... Val Loss: 1.2851\n",
      "Epoch: 19/20... Step: 2530... Loss: 1.2422... Val Loss: 1.2842\n",
      "Epoch: 19/20... Step: 2540... Loss: 1.2610... Val Loss: 1.2809\n",
      "Epoch: 19/20... Step: 2550... Loss: 1.2133... Val Loss: 1.2845\n",
      "Epoch: 19/20... Step: 2560... Loss: 1.2229... Val Loss: 1.2756\n",
      "Epoch: 19/20... Step: 2570... Loss: 1.2148... Val Loss: 1.2778\n",
      "Epoch: 19/20... Step: 2580... Loss: 1.2457... Val Loss: 1.2829\n",
      "Epoch: 19/20... Step: 2590... Loss: 1.2052... Val Loss: 1.2793\n",
      "Epoch: 19/20... Step: 2600... Loss: 1.2096... Val Loss: 1.2837\n",
      "Epoch: 19/20... Step: 2610... Loss: 1.2216... Val Loss: 1.2798\n",
      "Epoch: 19/20... Step: 2620... Loss: 1.2002... Val Loss: 1.2804\n",
      "Epoch: 19/20... Step: 2630... Loss: 1.2103... Val Loss: 1.2820\n",
      "Epoch: 19/20... Step: 2640... Loss: 1.2197... Val Loss: 1.2830\n",
      "Epoch: 20/20... Step: 2650... Loss: 1.2236... Val Loss: 1.2798\n",
      "Epoch: 20/20... Step: 2660... Loss: 1.2316... Val Loss: 1.2797\n",
      "Epoch: 20/20... Step: 2670... Loss: 1.2404... Val Loss: 1.2803\n",
      "Epoch: 20/20... Step: 2680... Loss: 1.2175... Val Loss: 1.2772\n",
      "Epoch: 20/20... Step: 2690... Loss: 1.1988... Val Loss: 1.2775\n",
      "Epoch: 20/20... Step: 2700... Loss: 1.2216... Val Loss: 1.2766\n",
      "Epoch: 20/20... Step: 2710... Loss: 1.1953... Val Loss: 1.2735\n",
      "Epoch: 20/20... Step: 2720... Loss: 1.1923... Val Loss: 1.2756\n",
      "Epoch: 20/20... Step: 2730... Loss: 1.1823... Val Loss: 1.2748\n",
      "Epoch: 20/20... Step: 2740... Loss: 1.1843... Val Loss: 1.2720\n",
      "Epoch: 20/20... Step: 2750... Loss: 1.1959... Val Loss: 1.2741\n",
      "Epoch: 20/20... Step: 2760... Loss: 1.1952... Val Loss: 1.2739\n",
      "Epoch: 20/20... Step: 2770... Loss: 1.2278... Val Loss: 1.2697\n",
      "Epoch: 20/20... Step: 2780... Loss: 1.2516... Val Loss: 1.2750\n"
     ]
    }
   ],
   "source": [
    "batch_size = 128\n",
    "seq_length = 100\n",
    "n_epochs = 20 # start small if you are just testing initial behavior\n",
    "\n",
    "# train the model\n",
    "train(net, encoded, epochs=n_epochs, batch_size=batch_size, seq_length=seq_length, lr=0.001, print_every=10)"
   ]
  },
  {
   "cell_type": "markdown",
   "metadata": {},
   "source": [
    "## Getting the best model\n",
    "\n",
    "To set your hyperparameters to get the best performance, you'll want to watch the training and validation losses. If your training loss is much lower than the validation loss, you're overfitting. Increase regularization (more dropout) or use a smaller network. If the training and validation losses are close, you're underfitting so you can increase the size of the network."
   ]
  },
  {
   "cell_type": "markdown",
   "metadata": {},
   "source": [
    "## Hyperparameters\n",
    "\n",
    "Here are the hyperparameters for the network.\n",
    "\n",
    "In defining the model:\n",
    "* `n_hidden` - The number of units in the hidden layers.\n",
    "* `n_layers` - Number of hidden LSTM layers to use.\n",
    "\n",
    "We assume that dropout probability and learning rate will be kept at the default, in this example.\n",
    "\n",
    "And in training:\n",
    "* `batch_size` - Number of sequences running through the network in one pass.\n",
    "* `seq_length` - Number of characters in the sequence the network is trained on. Larger is better typically, the network will learn more long range dependencies. But it takes longer to train. 100 is typically a good number here.\n",
    "* `lr` - Learning rate for training\n",
    "\n",
    "Here's some good advice from Andrej Karpathy on training the network. I'm going to copy it in here for your benefit, but also link to [where it originally came from](https://github.com/karpathy/char-rnn#tips-and-tricks).\n",
    "\n",
    "> ## Tips and Tricks\n",
    "\n",
    ">### Monitoring Validation Loss vs. Training Loss\n",
    ">If you're somewhat new to Machine Learning or Neural Networks it can take a bit of expertise to get good models. The most important quantity to keep track of is the difference between your training loss (printed during training) and the validation loss (printed once in a while when the RNN is run on the validation data (by default every 1000 iterations)). In particular:\n",
    "\n",
    "> - If your training loss is much lower than validation loss then this means the network might be **overfitting**. Solutions to this are to decrease your network size, or to increase dropout. For example you could try dropout of 0.5 and so on.\n",
    "> - If your training/validation loss are about equal then your model is **underfitting**. Increase the size of your model (either number of layers or the raw number of neurons per layer)\n",
    "\n",
    "> ### Approximate number of parameters\n",
    "\n",
    "> The two most important parameters that control the model are `n_hidden` and `n_layers`. I would advise that you always use `n_layers` of either 2/3. The `n_hidden` can be adjusted based on how much data you have. The two important quantities to keep track of here are:\n",
    "\n",
    "> - The number of parameters in your model. This is printed when you start training.\n",
    "> - The size of your dataset. 1MB file is approximately 1 million characters.\n",
    "\n",
    ">These two should be about the same order of magnitude. It's a little tricky to tell. Here are some examples:\n",
    "\n",
    "> - I have a 100MB dataset and I'm using the default parameter settings (which currently print 150K parameters). My data size is significantly larger (100 mil >> 0.15 mil), so I expect to heavily underfit. I am thinking I can comfortably afford to make `n_hidden` larger.\n",
    "> - I have a 10MB dataset and running a 10 million parameter model. I'm slightly nervous and I'm carefully monitoring my validation loss. If it's larger than my training loss then I may want to try to increase dropout a bit and see if that helps the validation loss.\n",
    "\n",
    "> ### Best models strategy\n",
    "\n",
    ">The winning strategy to obtaining very good models (if you have the compute time) is to always err on making the network larger (as large as you're willing to wait for it to compute) and then try different dropout values (between 0,1). Whatever model has the best validation performance (the loss, written in the checkpoint filename, low is good) is the one you should use in the end.\n",
    "\n",
    ">It is very common in deep learning to run many different models with many different hyperparameter settings, and in the end take whatever checkpoint gave the best validation performance.\n",
    "\n",
    ">By the way, the size of your training and validation splits are also parameters. Make sure you have a decent amount of data in your validation set or otherwise the validation performance will be noisy and not very informative."
   ]
  },
  {
   "cell_type": "markdown",
   "metadata": {},
   "source": [
    "## Checkpoint\n",
    "\n",
    "After training, we'll save the model so we can load it again later if we need too. Here I'm saving the parameters needed to create the same architecture, the hidden layer hyperparameters and the text characters."
   ]
  },
  {
   "cell_type": "code",
   "execution_count": null,
   "metadata": {},
   "outputs": [],
   "source": [
    "# change the name, for saving multiple files\n",
    "model_name = 'rnn_x_epoch.net'\n",
    "\n",
    "checkpoint = {'n_hidden': net.n_hidden,\n",
    "              'n_layers': net.n_layers,\n",
    "              'state_dict': net.state_dict(),\n",
    "              'tokens': net.chars}\n",
    "\n",
    "with open(model_name, 'wb') as f:\n",
    "    torch.save(checkpoint, f)"
   ]
  },
  {
   "cell_type": "markdown",
   "metadata": {},
   "source": [
    "---\n",
    "## Making Predictions\n",
    "\n",
    "Now that the model is trained, we'll want to sample from it and make predictions about next characters! To sample, we pass in a character and have the network predict the next character. Then we take that character, pass it back in, and get another predicted character. Just keep doing this and you'll generate a bunch of text!\n",
    "\n",
    "### A note on the `predict`  function\n",
    "\n",
    "The output of our RNN is from a fully-connected layer and it outputs a **distribution of next-character scores**.\n",
    "\n",
    "> To actually get the next character, we apply a softmax function, which gives us a *probability* distribution that we can then sample to predict the next character.\n",
    "\n",
    "### Top K sampling\n",
    "\n",
    "Our predictions come from a categorical probability distribution over all the possible characters. We can make the sample text and make it more reasonable to handle (with less variables) by only considering some $K$ most probable characters. This will prevent the network from giving us completely absurd characters while allowing it to introduce some noise and randomness into the sampled text. Read more about [topk, here](https://pytorch.org/docs/stable/torch.html#torch.topk).\n"
   ]
  },
  {
   "cell_type": "code",
   "execution_count": null,
   "metadata": {},
   "outputs": [],
   "source": [
    "def predict(net, char, h=None, top_k=None):\n",
    "        ''' Given a character, predict the next character.\n",
    "            Returns the predicted character and the hidden state.\n",
    "        '''\n",
    "        \n",
    "        # tensor inputs\n",
    "        x = np.array([[net.char2int[char]]])\n",
    "        x = one_hot_encode(x, len(net.chars))\n",
    "        inputs = torch.from_numpy(x)\n",
    "        \n",
    "        if(train_on_gpu):\n",
    "            inputs = inputs.cuda()\n",
    "        \n",
    "        # detach hidden state from history\n",
    "        h = tuple([each.data for each in h])\n",
    "        # get the output of the model\n",
    "        out, h = net(inputs, h)\n",
    "\n",
    "        # get the character probabilities\n",
    "        p = F.softmax(out, dim=1).data\n",
    "        if(train_on_gpu):\n",
    "            p = p.cpu() # move to cpu\n",
    "        \n",
    "        # get top characters\n",
    "        if top_k is None:\n",
    "            top_ch = np.arange(len(net.chars))\n",
    "        else:\n",
    "            p, top_ch = p.topk(top_k)\n",
    "            top_ch = top_ch.numpy().squeeze()\n",
    "        \n",
    "        # select the likely next character with some element of randomness\n",
    "        p = p.numpy().squeeze()\n",
    "        char = np.random.choice(top_ch, p=p/p.sum())\n",
    "        \n",
    "        # return the encoded value of the predicted char and the hidden state\n",
    "        return net.int2char[char], h"
   ]
  },
  {
   "cell_type": "markdown",
   "metadata": {},
   "source": [
    "### Priming and generating text \n",
    "\n",
    "Typically you'll want to prime the network so you can build up a hidden state. Otherwise the network will start out generating characters at random. In general the first bunch of characters will be a little rough since it hasn't built up a long history of characters to predict from."
   ]
  },
  {
   "cell_type": "code",
   "execution_count": null,
   "metadata": {},
   "outputs": [],
   "source": [
    "def sample(net, size, prime='The', top_k=None):\n",
    "        \n",
    "    if(train_on_gpu):\n",
    "        net.cuda()\n",
    "    else:\n",
    "        net.cpu()\n",
    "    \n",
    "    net.eval() # eval mode\n",
    "    \n",
    "    # First off, run through the prime characters\n",
    "    chars = [ch for ch in prime]\n",
    "    h = net.init_hidden(1)\n",
    "    for ch in prime:\n",
    "        char, h = predict(net, ch, h, top_k=top_k)\n",
    "\n",
    "    chars.append(char)\n",
    "    \n",
    "    # Now pass in the previous character and get a new one\n",
    "    for ii in range(size):\n",
    "        char, h = predict(net, chars[-1], h, top_k=top_k)\n",
    "        chars.append(char)\n",
    "\n",
    "    return ''.join(chars)"
   ]
  },
  {
   "cell_type": "code",
   "execution_count": null,
   "metadata": {},
   "outputs": [
    {
     "name": "stdout",
     "output_type": "stream",
     "text": [
      "Anna's face, saying\n",
      "that she was no one who can say to him to be talked from the fore\n",
      "and all this. She said. Anna sat down and close the salvation of\n",
      "the contrult, stood as a good new possible of the colonel of\n",
      "the convolitulies to him of the dinner, the singer and start\n",
      "of the peacant actual peasants and word and women she\n",
      "walked. The portrait of the meadow of his heart would have\n",
      "thought of that the chief same his serence, and still the sersance\n",
      "of the passion of the might can't be the first term to his wife and\n",
      "the same his face. But as she saw this sounds, and a country came in and\n",
      "strongered him, but was an instant to him. And that there was the position of\n",
      "anything and the countess, as all at and sound on the conception of\n",
      "the sight of a strange face, as the feeling of time and stopped their serventes,\n",
      "then the carting starm with their plight, he sould any high forest that\n",
      "he was not in the court and see that the passion of his\n",
      "secretary seemed to him.\n",
      "\n",
      "\"What's the passionate of thei\n"
     ]
    }
   ],
   "source": [
    "print(sample(net, 1000, prime='Anna', top_k=5))"
   ]
  },
  {
   "cell_type": "markdown",
   "metadata": {},
   "source": [
    "## Loading a checkpoint"
   ]
  },
  {
   "cell_type": "code",
   "execution_count": null,
   "metadata": {},
   "outputs": [
    {
     "data": {
      "text/plain": [
       "<All keys matched successfully>"
      ]
     },
     "execution_count": null,
     "metadata": {
      "tags": []
     },
     "output_type": "execute_result"
    }
   ],
   "source": [
    "# Here we have loaded in a model that trained over 20 epochs `rnn_20_epoch.net`\n",
    "with open('rnn_x_epoch.net', 'rb') as f:\n",
    "    checkpoint = torch.load(f)\n",
    "    \n",
    "loaded = CharRNN(checkpoint['tokens'], n_hidden=checkpoint['n_hidden'], n_layers=checkpoint['n_layers'])\n",
    "loaded.load_state_dict(checkpoint['state_dict'])"
   ]
  },
  {
   "cell_type": "code",
   "execution_count": null,
   "metadata": {},
   "outputs": [
    {
     "name": "stdout",
     "output_type": "stream",
     "text": [
      "And Levin said\n",
      "standing in her hand, and staying their soul of husband. \"The whole\n",
      "doctor is the still means?\" he said, with a spiritual, being settled\n",
      "her, and he smiled, hearing with the signing one of the sat\n",
      "something stirrid.\n",
      "\n",
      "\"I can't be in how it well, and what is it, you did not late him so is to\n",
      "help.\"\n",
      "\n",
      "\"In a lutt as teres, the common soul.\"\n",
      "\n",
      "Stepan Arkadyevitch and her husband was so the position of some\n",
      "side--as it was in some different feeling of another.\n",
      "\n",
      "\"I didn't believe anything, that if it's not that you are\n",
      "not time as I can go off together to herself to have a finger\n",
      "of the marshal for the sense.\n",
      "\n",
      "\"Yes, yes, told to this, that is not...\"\n",
      "\n",
      "\"I well at the start...\"\n",
      "\n",
      "\"No, to dread out a minoth of the pity of something all of all\n",
      "three.\"\n",
      "\n",
      "\"I have adrighted them it as all the three of\n",
      "the whole son.... Well, how came, if I am such inconversation as they are\n",
      "all the chief thing oneself.\" He would have something\n",
      "before him, and saw it to her shundreds, but would attack the study\n",
      "of some service. The country, that was his brother husband work\n",
      "as it. Bright, as he could not could have becumes in anyway; and her\n",
      "face was a stude of the party fall of the studee than her action that\n",
      "had to sat so were in the memation of the day the fashions of the\n",
      "condition of the servoms over it, but as it was the country, the\n",
      "marshal.\n",
      "\n",
      "\"I don't see a mistress,\" said Anna.\n",
      "\n",
      "\"Yes, tender the plangs.\"\n",
      "\n",
      "\"Why have you stayed to be the conversation of that, I shall be\n",
      "so making all other. I should have not come in. Well, it shouse, what a\n",
      "strung moment is still as it makes a love too.\"\n",
      "\n",
      "\"Well, whine has a man of a matter woman.\"\n",
      "\n",
      "And stope on the conversation with her strength of the part of\n",
      "his hand, her son's service, and he sens his finger, were and suck the\n",
      "part of side and the party figure and studies of her stupid, standing to\n",
      "be in her step, as she dressed it to all about her heast.\n",
      "\n",
      "\"A man what you were taking the chest time? I want a waiter than\n",
      "how I don't know him, and showed her his\n"
     ]
    }
   ],
   "source": [
    "# Sample using a loaded model\n",
    "print(sample(loaded, 2000, top_k=5, prime=\"And Levin said\"))"
   ]
  },
  {
   "cell_type": "code",
   "execution_count": null,
   "metadata": {},
   "outputs": [],
   "source": [
    ""
   ]
  }
 ],
 "metadata": {
  "kernelspec": {
   "display_name": "Python [default]",
   "language": "python",
   "name": "python3"
  }
 },
 "nbformat": 4,
 "nbformat_minor": 0
}
